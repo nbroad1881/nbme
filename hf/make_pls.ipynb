{
 "cells": [
  {
   "cell_type": "code",
   "execution_count": 3,
   "id": "6245eb92-f1ba-4d7c-9f7d-8a512bb063cd",
   "metadata": {
    "tags": []
   },
   "outputs": [
    {
     "name": "stdout",
     "output_type": "stream",
     "text": [
      "dataset length: 71500\n"
     ]
    }
   ],
   "source": [
    "import os\n",
    "from functools import partial\n",
    "import datetime\n",
    "from pathlib import Path\n",
    "\n",
    "import torch\n",
    "from transformers import Trainer, TrainingArguments, AutoConfig, DataCollatorWithPadding, AutoTokenizer\n",
    "from transformers.trainer_utils import set_seed\n",
    "from data import NERDataModule\n",
    "from config import get_configs\n",
    "from model import get_pretrained\n",
    "from datasets import Dataset\n",
    "import numpy as np\n",
    "\n",
    "\n",
    "config_file = \"j-dv1l-idpt-pl-0.yml\"\n",
    "output = config_file.split(\".\")[0]\n",
    "cfg, args = get_configs(config_file)\n",
    "set_seed(args[\"seed\"])\n",
    "\n",
    "cfg, args = get_configs(config_file)\n",
    "args[\"output_dir\"] = output\n",
    "\n",
    "args = TrainingArguments(**args)\n",
    "\n",
    "\n",
    "\n",
    "if Path(\"dv1l-processed\").exists():\n",
    "    dataset = Dataset.load_from_disk(\"dv1l-processed\")\n",
    "else:\n",
    "    \n",
    "    datamodule = NERDataModule(cfg)\n",
    "    datamodule.prepare_datasets()\n",
    "    \n",
    "    dataset = datamodule.dataset\n",
    "    dataset = dataset.map(lambda x: {\"length\": len(x[\"input_ids\"])}, num_proc=cfg[\"num_proc\"])\n",
    "    dataset = dataset.sort(\"length\")\n",
    "\n",
    "    dataset.save_to_disk(\"dv1l-processed\")\n",
    "\n",
    "\n",
    "tokenizer = AutoTokenizer.from_pretrained(cfg[\"model_name_or_path\"])\n",
    "    \n",
    "print(f\"dataset length: {len(dataset)}\")\n",
    "\n",
    "model_config = AutoConfig.from_pretrained(cfg[\"model_name_or_path\"], use_auth_token=os.environ.get(\"HUGGINGFACE_HUB_TOKEN\", True))\n",
    "model = get_pretrained(model_config, cfg[\"model_name_or_path\"]+\"/pytorch_model.bin\")\n",
    "\n",
    "data_collator = DataCollatorWithPadding(\n",
    "    tokenizer=tokenizer,\n",
    "    return_tensors=\"pt\",\n",
    "    padding=\"longest\",\n",
    "    pad_to_multiple_of=8,\n",
    ")\n",
    "\n",
    "trainer = Trainer(\n",
    "    model=model,\n",
    "    args=args,\n",
    "    tokenizer=tokenizer,\n",
    "    data_collator=data_collator,\n",
    ")"
   ]
  },
  {
   "cell_type": "code",
   "execution_count": 5,
   "id": "b0026549-1735-4bfb-b269-c85d8131190b",
   "metadata": {},
   "outputs": [],
   "source": [
    "chunk = 10_000\n",
    "\n",
    "ds = dataset.remove_columns([x for x in dataset.column_names if x not in {\"input_ids\", \"token_type_ids\", \"attention_mask\"}])\n",
    "for i, start in enumerate(range(0, len(dataset), chunk)):\n",
    "    end = min(start+chunk, len(dataset))\n",
    "    small_ds = ds.select(range(start,end))\n",
    "\n",
    "    preds = trainer.predict(small_ds)\n",
    "    \n",
    "    np.save(f\"dv1l-ner-3-f0-chunk{i}.npy\", preds[0])"
   ]
  },
  {
   "cell_type": "code",
   "execution_count": null,
   "id": "2845fdf8-e6b3-4d11-b23f-15635053da90",
   "metadata": {},
   "outputs": [],
   "source": []
  }
 ],
 "metadata": {
  "kernelspec": {
   "display_name": "Python 3 (ipykernel)",
   "language": "python",
   "name": "python3"
  },
  "language_info": {
   "codemirror_mode": {
    "name": "ipython",
    "version": 3
   },
   "file_extension": ".py",
   "mimetype": "text/x-python",
   "name": "python",
   "nbconvert_exporter": "python",
   "pygments_lexer": "ipython3",
   "version": "3.8.12"
  }
 },
 "nbformat": 4,
 "nbformat_minor": 5
}
